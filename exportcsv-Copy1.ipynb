{
 "cells": [
  {
   "cell_type": "code",
   "execution_count": 1,
   "metadata": {},
   "outputs": [],
   "source": [
    "import pandas as pd\n",
    "import numpy as np\n",
    "import bql\n",
    "import bqcde\n",
    "from datetime import datetime\n",
    "from pathlib import Path\n",
    "import os\n",
    "bq=bql.Service()"
   ]
  },
  {
   "cell_type": "code",
   "execution_count": 2,
   "metadata": {},
   "outputs": [],
   "source": [
    "indx={\n",
    "    'TPX Index',\n",
    "    'SPX Index',\n",
    "    'MXWO Index',\n",
    "}\n"
   ]
  },
  {
   "cell_type": "code",
   "execution_count": 3,
   "metadata": {},
   "outputs": [],
   "source": [
    "enddt=datetime.today().date()\n",
    "startdt=datetime(1979,1,1)\n",
    "\n",
    "def fetch_data(security, st, ed):\n",
    "    daterg=bq.func.range(st, ed)\n",
    "    px={'PX' : bq.data.px_last(dates=daterg, frq=\"D\")}\n",
    "    px_request=bql.Request(security, px)\n",
    "    px_response=bq.execute(px_request)\n",
    "    px_df=px_response[0].df().reset_index().drop({'CURRENCY', 'ID'}, axis=1).dropna()\n",
    "\n",
    "    csvfilename=security.replace(\" \", \"_\") + \".csv\"\n",
    "    csvfolder=os.getcwd()\n",
    "    datefolderstr=str(st.strftime('%Y%m%d') + '_' + ed.strftime('%Y%m%d'))\n",
    "    folderpath=str(Path(csvfolder + '/' + datefolderstr))\n",
    "    if not os.path.exists(folderpath):\n",
    "        os.mkdir(folderpath)\n",
    "    csvpath=Path(folderpath + '/' + csvfilename)\n",
    "    pathstr=str(csvpath)\n",
    "    exporttocsv=df2.to_csv(pathstr)\n",
    "    \n",
    "    return exporttocsv\n",
    "    "
   ]
  },
  {
   "cell_type": "code",
   "execution_count": 4,
   "metadata": {},
   "outputs": [],
   "source": [
    "for i, sec in enumerate(indx):\n",
    "    fetch_data(sec, startdt, enddt)"
   ]
  },
  {
   "cell_type": "code",
   "execution_count": 6,
   "metadata": {},
   "outputs": [],
   "source": [
    "datefolder=str(startdt.strftime('%Y%m%d') + '_' + enddt.strftime('%Y%m%d'))\n",
    "folderpath=os.getcwd()\n",
    "savepath=str(Path(folderpath +'/'+datefolder +'/' + 'Port.csv'))\n",
    "porttocsv=df2.to_csv(savepath)"
   ]
  },
  {
   "cell_type": "code",
   "execution_count": 7,
   "metadata": {},
   "outputs": [
    {
     "data": {
      "text/plain": [
       "'C:\\\\Users\\\\eyamauchi\\\\AppData\\\\Local\\\\bipy\\\\25181568\\\\projects\\\\3e8c5050236d4467859d57b6ce9e453d'"
      ]
     },
     "execution_count": 7,
     "metadata": {},
     "output_type": "execute_result"
    }
   ],
   "source": [
    "to_clipboard=os.getcwd()\n",
    "to_clipboard"
   ]
  }
 ],
 "metadata": {
  "kernelspec": {
   "display_name": "Python 3",
   "language": "python",
   "name": "python3"
  },
  "language_info": {
   "codemirror_mode": {
    "name": "ipython",
    "version": 3
   },
   "file_extension": ".py",
   "mimetype": "text/x-python",
   "name": "python",
   "nbconvert_exporter": "python",
   "pygments_lexer": "ipython3",
   "version": "3.7.3"
  }
 },
 "nbformat": 4,
 "nbformat_minor": 4
}
