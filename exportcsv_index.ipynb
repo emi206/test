{
 "cells": [
  {
   "cell_type": "code",
   "execution_count": 2,
   "metadata": {},
   "outputs": [],
   "source": [
    "import pandas as pd\n",
    "import numpy as np\n",
    "import bql\n",
    "from datetime import datetime\n",
    "from pathlib import Path\n",
    "import os\n",
    "bq=bql.Service()"
   ]
  },
  {
   "cell_type": "code",
   "execution_count": 27,
   "metadata": {},
   "outputs": [],
   "source": [
    "indx={\n",
    "    'MXJP000V Index',\n",
    "    'MXJP000G Index',\n",
    "    'M6JPMMT Index',\n",
    "    'MXJP Index'\n",
    "}\n",
    "\n",
    "enddt=datetime.today().date()\n",
    "startdt=datetime(2015,1,1)"
   ]
  },
  {
   "cell_type": "code",
   "execution_count": 18,
   "metadata": {},
   "outputs": [],
   "source": [
    "def fetch_data(indices, st, ed):\n",
    "    daterg=bq.func.range(st, ed)\n",
    "    px={'Actual Price' : bq.data.px_last(dates=daterg, frq=\"D\")}\n",
    "    px_request=bql.Request(indices, px)\n",
    "    px_response=bq.execute(px_request)\n",
    "    px_df=px_response[0].df().reset_index().drop({'CURRENCY', 'ID'}, axis=1).ffill().dropna()\n",
    "    \n",
    "    csvfilename=indices.replace(\" \", \"_\") + \".csv\"\n",
    "    csvfolder=os.getcwd()\n",
    "    datefolderstr=str(st.strftime('%Y%m%d') + '_' + ed.strftime('%Y%m%d'))\n",
    "    folderpath=str(Path(csvfolder + '/' + datefolderstr))\n",
    "    if not os.path.exists(folderpath):\n",
    "        os.mkdir(folderpath)\n",
    "    csvpath=Path(folderpath + '/' + csvfilename)\n",
    "    pathstr=str(csvpath)\n",
    "    exporttocsv=px_df.to_csv(pathstr)\n",
    "    \n",
    "    return exporttocsv\n",
    "    "
   ]
  },
  {
   "cell_type": "code",
   "execution_count": 30,
   "metadata": {},
   "outputs": [],
   "source": [
    "for i, sec in enumerate(indx):\n",
    "    fetch_data(sec, startdt, enddt)"
   ]
  },
  {
   "cell_type": "code",
   "execution_count": 11,
   "metadata": {},
   "outputs": [
    {
     "data": {
      "text/plain": [
       "'C:\\\\Users\\\\eyamauchi\\\\AppData\\\\Local\\\\bipy\\\\19963160\\\\projects\\\\7edc9708533f45689f5d20f1a126ec28'"
      ]
     },
     "execution_count": 11,
     "metadata": {},
     "output_type": "execute_result"
    }
   ],
   "source": [
    "to_clipboard=os.getcwd()\n",
    "to_clipboard"
   ]
  }
 ],
 "metadata": {
  "kernelspec": {
   "display_name": "Python 3",
   "language": "python",
   "name": "python3"
  },
  "language_info": {
   "codemirror_mode": {
    "name": "ipython",
    "version": 3
   },
   "file_extension": ".py",
   "mimetype": "text/x-python",
   "name": "python",
   "nbconvert_exporter": "python",
   "pygments_lexer": "ipython3",
   "version": "3.7.3"
  }
 },
 "nbformat": 4,
 "nbformat_minor": 4
}
