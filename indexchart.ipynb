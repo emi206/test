{
 "cells": [
  {
   "cell_type": "code",
   "execution_count": 1,
   "metadata": {},
   "outputs": [],
   "source": [
    "import pandas as pd\n",
    "import numpy as np\n",
    "from functools import reduce\n",
    "from datetime import datetime\n",
    "import bql\n",
    "import os\n",
    "bq=bql.Service()"
   ]
  },
  {
   "cell_type": "code",
   "execution_count": 80,
   "metadata": {},
   "outputs": [],
   "source": [
    "indx={\n",
    "    'TPX Index',\n",
    "    'SPX Index',\n",
    "    'MXWO Index',\n",
    "    'MXEU Index'\n",
    "}\n",
    "\n",
    "enddate=datetime.today().date()\n",
    "startdate=datetime('1979-01-01')\n",
    "\n",
    "def fetch_px(index, st, ed):\n",
    "    daterg=bq.func.range(st, ed)\n",
    "    px={index : bq.data.px_last(dates=daterg, frq=\"D\")}\n",
    "    px_req=bql.Request(index, px)\n",
    "    px_resp=bq.execute(px_req)\n",
    "    px_df=px_resp[0].df().dropna().reset_index().drop({'CURRENCY', 'ID'}, axis=1)\n",
    "\n",
    "    return px_df\n",
    "\n",
    "def fetch_index_name(indices):\n",
    "    name=bq.data.name()    \n",
    "\n",
    "def fetch_index_px(indices, st, ed):\n",
    "    df=pd.DataFrame(pd.date_range(st, ed), columns=['DATE'])\n",
    "    for i, ind in enumerate(indices):\n",
    "        df_index=fetch_px(ind, st, ed)\n",
    "        df=df.merge(df_index, on=['DATE'], how='outer').dropna()\n",
    "    \n",
    "    for k, ind in enumerate(indices):\n",
    "        header=str(k)\n",
    "        index_start=df[ind][0]\n",
    "        df[header]=df[ind].div(index_start).mul(100)\n",
    "    \n",
    "    csvfolderpath=os.getwd()\n",
    "    csvfilename='test.csv'\n",
    "    csvpath=Path(folderpath + '/' + csvfilename)\n",
    "    strpath=str(csvpath)\n",
    "    exportcsv=df.to_csv(strpath)\n",
    "    \n",
    "    return exportcsv\n",
    "    "
   ]
  },
  {
   "cell_type": "code",
   "execution_count": null,
   "metadata": {},
   "outputs": [],
   "source": [
    "fetch_index_px(indx, startdate, enddate)"
   ]
  }
 ],
 "metadata": {
  "kernelspec": {
   "display_name": "Python 3",
   "language": "python",
   "name": "python3"
  },
  "language_info": {
   "codemirror_mode": {
    "name": "ipython",
    "version": 3
   },
   "file_extension": ".py",
   "mimetype": "text/x-python",
   "name": "python",
   "nbconvert_exporter": "python",
   "pygments_lexer": "ipython3",
   "version": "3.7.3"
  }
 },
 "nbformat": 4,
 "nbformat_minor": 4
}
